{
 "cells": [
  {
   "cell_type": "code",
   "execution_count": null,
   "metadata": {},
   "outputs": [],
   "source": [
    "import pandas as pd\n",
    "import math\n",
    "import ipywidgets as widgets"
   ]
  },
  {
   "cell_type": "code",
   "execution_count": null,
   "metadata": {},
   "outputs": [],
   "source": [
    "name_label = widgets.Label(value=\"Name:\")\n",
    "name_combo = widgets.Combobox(\n",
    "    # value='John',\n",
    "    placeholder='First Name',\n",
    "    options=['Paul', 'Jason', 'Joe', 'John', 'George', 'Ringo'],\n",
    "    #description='Blah:',\n",
    "    ensure_option=True,\n",
    "    disabled=False\n",
    ")\n",
    "\n",
    "res_lincoln_label = widgets.Label(value=\"Resident of Lincoln county:\")\n",
    "res_lincoln = widgets.ToggleButtons(\n",
    "    options=['Yes', 'No'],\n",
    "    description='',\n",
    "    disabled=False,\n",
    "    button_style='', # 'success', 'info', 'warning', 'danger' or ''\n",
    "    #tooltips=['Description of slow', 'Description of regular', 'Description of fast'],\n",
    "    #icons=['check'] * 3\n",
    ")\n",
    "\n",
    "# address_label = widgets.Label(value=\"Address:\")\n",
    "# address\n",
    "\n",
    "# city_label = widgets.Label(value=\"City:\")\n",
    "# city\n",
    "\n",
    "# state_label = widgets.Label(value=\"State:\")\n",
    "# state\n",
    "\n",
    "# zip_label = widgets.Label(value=\"Zip:\")\n",
    "# zip_code\n",
    "\n",
    "# phone_label = widgets.Label(value=\"Phone:\")\n",
    "# phone\n",
    "\n",
    "# nbr_65_plus\n",
    "# nbr_18_64\n",
    "# nbr_under_18\n",
    "\n",
    "# foot_stamps_ind = widgets.ToggleButtons(\n",
    "#     options=['Yes', 'No'],\n",
    "#     description='',\n",
    "#     disabled=False,\n",
    "#     button_style='', # 'success', 'info', 'warning', 'danger' or ''\n",
    "#     #tooltips=['Description of slow', 'Description of regular', 'Description of fast'],\n",
    "#     #icons=['check'] * 3\n",
    "# )\n",
    "\n",
    "# help_food_stamp\n",
    "\n",
    "# help_job\n",
    "\n",
    "# hh_grose_income\n",
    "\n",
    "def on_button_clicked(b):\n",
    "    with output:\n",
    "        print(\"Button clicked.\")\n",
    "\n",
    "search_name = widgets.Button(\n",
    "    description='Click me',\n",
    "    disabled=False,\n",
    "    button_style='', # 'success', 'info', 'warning', 'danger' or ''\n",
    "    tooltip='Click me',\n",
    "    icon='search' # (FontAwesome names without the `fa-` prefix)\n",
    ")\n",
    "search_name.on_click(on_button_clicked)\n",
    "\n",
    "output = widgets.Output()\n"
   ]
  },
  {
   "cell_type": "code",
   "execution_count": null,
   "metadata": {},
   "outputs": [],
   "source": [
    "form = widgets.VBox([name_label, name_combo, search_name, output, res_lincoln_label, res_lincoln])"
   ]
  },
  {
   "cell_type": "code",
   "execution_count": null,
   "metadata": {},
   "outputs": [],
   "source": [
    "form"
   ]
  },
  {
   "cell_type": "code",
   "execution_count": null,
   "metadata": {},
   "outputs": [],
   "source": []
  }
 ],
 "metadata": {
  "kernelspec": {
   "display_name": "Python 3",
   "language": "python",
   "name": "python3"
  },
  "language_info": {
   "codemirror_mode": {
    "name": "ipython",
    "version": 3
   },
   "file_extension": ".py",
   "mimetype": "text/x-python",
   "name": "python",
   "nbconvert_exporter": "python",
   "pygments_lexer": "ipython3",
   "version": "3.8.3"
  }
 },
 "nbformat": 4,
 "nbformat_minor": 4
}
